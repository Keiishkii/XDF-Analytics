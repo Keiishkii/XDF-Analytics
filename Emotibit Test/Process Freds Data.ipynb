{
 "cells": [
  {
   "cell_type": "code",
   "id": "initial_id",
   "metadata": {
    "collapsed": true,
    "ExecuteTime": {
     "end_time": "2025-07-21T15:19:00.313285Z",
     "start_time": "2025-07-21T15:19:00.289030Z"
    }
   },
   "source": "%reset -f",
   "outputs": [],
   "execution_count": 1
  },
  {
   "metadata": {
    "ExecuteTime": {
     "end_time": "2025-07-21T15:19:01.747354Z",
     "start_time": "2025-07-21T15:19:00.912621Z"
    }
   },
   "cell_type": "code",
   "source": [
    "import matplotlib as mpl\n",
    "import matplotlib.pyplot as plt\n",
    "import numpy as np\n",
    "import pandas as pd\n",
    "import scipy.signal as signal\n",
    "import matplotlib.gridspec as gridspec\n",
    "import time\n",
    "\n",
    "from scipy.signal import butter, filtfilt\n",
    "from matplotlib.patches import ConnectionPatch\n",
    "from MINE.Log import Log\n",
    "from MINE.Analysis import SessionAnalytics, ExperimentAnalytics\n",
    "from MINE.StreamFilter import IStreamFilter, TimestampStreamFilter\n",
    "from MINE.SessionFilters import ISessionFilter, ContainsStreamSessionFilter, ContainsMarkersSessionFilter\n",
    "from MINE.StreamProcessing import StreamProcesses, PPG_Event\n",
    "from MINE.StreamOutput import StreamOutput"
   ],
   "id": "49a92eb79c1472a4",
   "outputs": [],
   "execution_count": 2
  },
  {
   "metadata": {
    "ExecuteTime": {
     "end_time": "2025-07-21T15:19:02.984601Z",
     "start_time": "2025-07-21T15:19:02.125744Z"
    }
   },
   "cell_type": "code",
   "source": [
    "_session_analytics: SessionAnalytics = SessionAnalytics.create_from_path(\"V:/Data/Raw/Emotibit Test/sub-P001_ses-S001_task-Default_run-001_eeg.xdf\")\n",
    "_session_analytics.localise_timestamps()"
   ],
   "id": "eefa06d170e945fa",
   "outputs": [],
   "execution_count": 3
  },
  {
   "metadata": {
    "ExecuteTime": {
     "end_time": "2025-07-21T15:19:04.952182Z",
     "start_time": "2025-07-21T15:19:03.460580Z"
    }
   },
   "cell_type": "code",
   "source": [
    "start = time.time()\n",
    "StreamProcesses.butterworth_filter(_session_analytics, \"PPG_GRN\", \"PPG_GRN_Filtered\")\n",
    "Log.message(f\"1: Time taken: {time.time() - start:.3f} seconds\")\n",
    "\n",
    "start = time.time()\n",
    "StreamProcesses.detect_ppg_peaks(_session_analytics, \"PPG_GRN_Filtered\", \"PPG_GRN_Filtered_Peak_Annotations\")\n",
    "Log.message(f\"2: Time taken: {time.time() - start} seconds\")\n",
    "\n",
    "start = time.time()\n",
    "StreamProcesses.create_vectors_from_component_streams(_session_analytics, \"ACC_X\", \"ACC_Y\", \"ACC_Z\", \"ACC_Vector\")\n",
    "Log.message(f\"3: Time taken: {time.time() - start} seconds\")\n",
    "\n",
    "start = time.time()\n",
    "StreamProcesses.calculate_magnitudes_from_vector_stream(_session_analytics, \"ACC_Vector\", \"ACC_Magnitude\")\n",
    "Log.message(f\"4: Time taken: {time.time() - start} seconds\")"
   ],
   "id": "b898f5898b6b494b",
   "outputs": [
    {
     "name": "stdout",
     "output_type": "stream",
     "text": [
      "\u001B[94m[ Message ]\u001B[0m 1: Time taken: 1.335 seconds\n",
      "\u001B[94m[ Message ]\u001B[0m 2: Time taken: 0.10969066619873047 seconds\n",
      "\u001B[94m[ Message ]\u001B[0m 3: Time taken: 0.01764082908630371 seconds\n",
      "\u001B[94m[ Message ]\u001B[0m 4: Time taken: 0.025355815887451172 seconds\n"
     ]
    }
   ],
   "execution_count": 4
  },
  {
   "metadata": {},
   "cell_type": "code",
   "source": [
    "def plot_filtered_ppg_subfigure(session_analytics: SessionAnalytics, axis: plt.Axes):\n",
    "    ppg_filtered_stream: pd.DataFrame = session_analytics.stream_data_dictionary[\"PPG_GRN_Filtered\"]\n",
    "    ppg_filtered_peak_annotations = session_analytics.stream_data_dictionary[\"PPG_GRN_Filtered_Peak_Annotations\"]\n",
    "\n",
    "    axis.plot(ppg_filtered_stream[\"Timestamp\"], ppg_filtered_stream[\"Value\"])\n",
    "\n",
    "    for _, row in ppg_filtered_peak_annotations.iterrows():\n",
    "        timestamp: float = row[\"Timestamp\"]\n",
    "        ppg_event: PPG_Event = row[\"Value\"]\n",
    "\n",
    "        axis.scatter(timestamp, ppg_event.systolic_peak_value, c = \"orange\")\n",
    "\n",
    "        if ppg_event.diastolic_trough_timestamp_offset and ppg_event.diastolic_trough_value:\n",
    "            axis.scatter(timestamp + ppg_event.diastolic_trough_timestamp_offset, ppg_event.diastolic_trough_value, c = \"blue\")\n",
    "\n",
    "        if ppg_event.diastolic_peak_timestamp_offset and ppg_event.diastolic_peak_value:\n",
    "            axis.scatter(timestamp + ppg_event.diastolic_peak_timestamp_offset, ppg_event.diastolic_peak_value, c = \"orange\", marker = \"x\")\n",
    "\n",
    "        if ppg_event.dicrotic_notch_timestamp_offset and ppg_event.dicrotic_notch_value:\n",
    "            axis.scatter(timestamp + ppg_event.dicrotic_notch_timestamp_offset, ppg_event.dicrotic_notch_value, c = \"blue\", marker = \"x\")\n",
    "\n",
    "\n",
    "def plot_heartrate_subfigure(session_analytics: SessionAnalytics, axis: plt.Axes, sample_duration: float = 20, sampling_step_count: float = 5):\n",
    "    ppg_filtered_stream: pd.DataFrame = session_analytics.stream_data_dictionary[\"PPG_GRN_Filtered\"]\n",
    "    systolic_peaks = session_analytics.stream_data_dictionary[\"PPG_GRN_Filtered_Peak_Annotations\"]\n",
    "    duration: float = ppg_filtered_stream[\"Timestamp\"].iloc[-1] - ppg_filtered_stream[\"Timestamp\"].iloc[0]\n",
    "\n",
    "    #region [ Calculate Average Heartrate ]\n",
    "    bpm_dataframe = pd.DataFrame(columns=[\"Timestamp\", \"BPM\"])\n",
    "\n",
    "    min_bpm: float = float(\"inf\")\n",
    "    max_bpm: float = 0\n",
    "\n",
    "    sample_time = -60 + (sample_duration / 2)\n",
    "    while sample_time < (duration - (sample_duration / 2)):\n",
    "        peaks_subset = systolic_peaks[\n",
    "            (systolic_peaks[\"Timestamp\"] > (sample_time - (sample_duration / 2))) &\n",
    "            (systolic_peaks[\"Timestamp\"] < (sample_time + (sample_duration / 2)))\n",
    "        ]\n",
    "\n",
    "        bpm = len(peaks_subset) * (60 / sample_duration)\n",
    "\n",
    "        if bpm < min_bpm: min_bpm = bpm\n",
    "        if bpm > max_bpm: max_bpm = bpm\n",
    "\n",
    "        bpm_dataframe.loc[len(bpm_dataframe)] = [\n",
    "            sample_time,\n",
    "            bpm\n",
    "        ]\n",
    "\n",
    "        sample_time = sample_time + sampling_step_count\n",
    "    #endregion\n",
    "\n",
    "    plotted_data = bpm_dataframe.loc[bpm_dataframe[\"Timestamp\"] > 20]\n",
    "\n",
    "    markers = session_analytics.stream_data_dictionary[\"FC_Markers\"]\n",
    "    sample_start: float = 0\n",
    "    for _, row in markers.iterrows():\n",
    "        sample_end = row[\"Timestamp\"]\n",
    "\n",
    "        period_sample = plotted_data.loc[\n",
    "            (plotted_data[\"Timestamp\"] > sample_start) &\n",
    "            (plotted_data[\"Timestamp\"] < sample_end)\n",
    "        ]\n",
    "\n",
    "        period_average = period_sample[\"BPM\"].mean()\n",
    "        axis.hlines(y=period_average, xmin=sample_start, xmax=sample_end, color=\"red\", alpha=0.5)\n",
    "\n",
    "        sample_start = sample_end\n",
    "\n",
    "    axis.plot(plotted_data[\"Timestamp\"], plotted_data[\"BPM\"])\n",
    "    axis.set_ylim(50, 100)\n",
    "\n",
    "def plot_accelerometer_magnitude_subfigure(session_analytics: SessionAnalytics, axis: plt.Axes):\n",
    "    accelerometer_magnitude_stream: pd.DataFrame = session_analytics.stream_data_dictionary[\"ACC_Magnitude\"]\n",
    "    accelerometer_x: pd.DataFrame = session_analytics.stream_data_dictionary[\"ACC_X\"]\n",
    "    accelerometer_y: pd.DataFrame = session_analytics.stream_data_dictionary[\"ACC_Y\"]\n",
    "    accelerometer_z: pd.DataFrame = session_analytics.stream_data_dictionary[\"ACC_Z\"]\n",
    "\n",
    "    axis.plot(accelerometer_magnitude_stream[\"Timestamp\"], accelerometer_magnitude_stream[\"Value\"], c = \"black\")\n",
    "    axis.plot(accelerometer_x[\"Timestamp\"], accelerometer_x[\"Value\"], alpha=0.5, linestyle=\"dashed\", c = \"red\")\n",
    "    axis.plot(accelerometer_y[\"Timestamp\"], accelerometer_y[\"Value\"], alpha=0.5, linestyle=\"dashed\", c = \"green\")\n",
    "    axis.plot(accelerometer_z[\"Timestamp\"], accelerometer_z[\"Value\"], alpha=0.5, linestyle=\"dashed\", c = \"blue\")\n",
    "\n",
    "def plot_markers_on_all_subfigures(session_analytics: SessionAnalytics, axes: list[plt.Axes]):\n",
    "    markers: pd.DataFrame = session_analytics.stream_data_dictionary[\"FC_Markers\"]\n",
    "    for _, row in markers.iterrows():\n",
    "        for axis in axes: axis.vlines(row[\"Timestamp\"], ymin=axis.get_ylim()[0], ymax=axis.get_ylim()[1], color=\"red\", linestyles=\"dashed\", alpha=0.5)\n",
    "        for axis in axes: axis.text(x=row[\"Timestamp\"], y=axis.get_ylim()[0], s=row[\"Value\"], ha='center', va='center')\n",
    "    pass\n",
    "\n",
    "def plot_experiment_data(session_analytics: SessionAnalytics):\n",
    "    ppg_filtered_stream: pd.DataFrame = session_analytics.stream_data_dictionary[\"PPG_GRN_Filtered\"]\n",
    "    duration: float = ppg_filtered_stream[\"Timestamp\"].iloc[-1] - ppg_filtered_stream[\"Timestamp\"].iloc[0]\n",
    "\n",
    "    sub_figures: int = 3\n",
    "    figure, axes = plt.subplots(nrows=sub_figures, ncols=1, figsize=(duration * 0.5, sub_figures * 4), dpi=300)\n",
    "\n",
    "    plot_filtered_ppg_subfigure(_session_analytics, axes[0])\n",
    "    #plot_heartrate_subfigure(_session_analytics, axes[1])\n",
    "    #plot_accelerometer_magnitude_subfigure(_session_analytics, axes[2])\n",
    "    #plot_markers_on_all_subfigures(_session_analytics, axes)\n",
    "\n",
    "    for axis in axes: axis.set_xlim(0, duration)\n",
    "\n",
    "    plt.title(\"Freds Data\")\n",
    "    plt.savefig(f\"V:/Exports/Freds Data.png\", dpi=300)\n",
    "    plt.close()\n",
    "\n",
    "plot_experiment_data(_session_analytics)"
   ],
   "id": "28ab64b4184801d2",
   "outputs": [],
   "execution_count": null
  }
 ],
 "metadata": {
  "kernelspec": {
   "display_name": "Python 3",
   "language": "python",
   "name": "python3"
  },
  "language_info": {
   "codemirror_mode": {
    "name": "ipython",
    "version": 2
   },
   "file_extension": ".py",
   "mimetype": "text/x-python",
   "name": "python",
   "nbconvert_exporter": "python",
   "pygments_lexer": "ipython2",
   "version": "2.7.6"
  }
 },
 "nbformat": 4,
 "nbformat_minor": 5
}
