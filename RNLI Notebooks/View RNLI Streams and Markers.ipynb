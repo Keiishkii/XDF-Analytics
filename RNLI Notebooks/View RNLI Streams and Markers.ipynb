{
 "cells": [
  {
   "cell_type": "code",
   "id": "initial_id",
   "metadata": {
    "collapsed": true
   },
   "source": "%reset -f",
   "outputs": [],
   "execution_count": null
  },
  {
   "metadata": {},
   "cell_type": "code",
   "source": [
    "import MINE.Analysis as analysis\n",
    "import os\n",
    "import pyxdf"
   ],
   "id": "8e7862683d08f926",
   "outputs": [],
   "execution_count": null
  },
  {
   "metadata": {},
   "cell_type": "code",
   "source": [
    "path = \"V:/Projects/XDF Analysis/data/RNLI/sub-P001_ses-S001_task-Default_run-001_eeg.xdf\"\n",
    "global_analytics = analysis.SessionAnalytics.create_from_path(path)\n",
    "\n",
    "global_analytics.export_stream(\"Marker\")"
   ],
   "id": "7cd34be67c196038",
   "outputs": [],
   "execution_count": null
  }
 ],
 "metadata": {
  "kernelspec": {
   "display_name": "Python 3",
   "language": "python",
   "name": "python3"
  },
  "language_info": {
   "codemirror_mode": {
    "name": "ipython",
    "version": 2
   },
   "file_extension": ".py",
   "mimetype": "text/x-python",
   "name": "python",
   "nbconvert_exporter": "python",
   "pygments_lexer": "ipython2",
   "version": "2.7.6"
  }
 },
 "nbformat": 4,
 "nbformat_minor": 5
}
